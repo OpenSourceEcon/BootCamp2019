{
 "cells": [
  {
   "cell_type": "markdown",
   "metadata": {},
   "source": [
    "# Solving and Simulating a DSGE Model using the LinApp Package in Python\n",
    "\n",
    "### by [Kerk L. Phillips](https://sites.google.com/site/kerkphillips/home), July 2018\n",
    "\n",
    "The code in this Jupyter notebook was written using Python 3.6."
   ]
  },
  {
   "cell_type": "markdown",
   "metadata": {},
   "source": [
    "This notebook explains how to set up a DSGE model and solve it in Python using the linearization techniques implemented in the LinApp package.  This package can be downloaded at the following Github site.  [https://github.com/kerkphil/DSGE-Utilities](https://github.com/kerkphil/DSGE-Utilities).  Alternatively, both those files and this notebook can be found in the public GitHub repository [https://github.com/kerkphil/Jupyter_Notebooks](https://github.com/kerkphil/Jupyter_Notebooks).\n",
    "\n",
    "The LinApp package includes the following files:\n",
    "\n",
    "LinApp_FindSS - Takes a function, funcname.py, and a steady state value for the exogenous state variables as inputs.  Finds the steady state for the model's endogenous state and jump variables.\n",
    "\n",
    "LinApp_Deriv - Takes a function, funcname.py, as an input.   Generates the derivative matrices needed for the Uhlig toolkit.\n",
    "\n",
    "LinApp_Solve - Takes the derivative matrices as inputs.  Uses the code from the Uhlig toolkit to generate the coefficients for the linearized policy function(s).\n",
    "\n",
    "LinApp_Sim - Takes the policy function coefficients and current state as inputs.  Generates the value(s) of the endogenous state variables for the next period.\n",
    "\n",
    "LinApp_SSL - Takes a history of exogenous state variables and the policy function coefficients as inputs.  Generates a history of state and jump variables using linearization about the steady state."
   ]
  },
  {
   "cell_type": "markdown",
   "metadata": {},
   "source": [
    "We begin by writing down the behavioral equations for a simple DSGE model.\n",
    "\n",
    "We use the following definitions:\n",
    "\n",
    "$k_t$ is the capital stock in period $t$.\n",
    "\n",
    "$z_t$ is the percent deviation of technology from its long-run value.\n",
    "\n",
    "$r_t$ is the rental rate on capital.\n",
    "\n",
    "$w_t$ is the wage rate.\n",
    "\n",
    "$c_t$ is private consumption.\n",
    "\n",
    "$i_t$ is investment.\n",
    "\n",
    "$\\varepsilon_t$ is the random innovation to $z_t$\n",
    "\n",
    "We also have the following parameters:\n",
    "$\\alpha$ is the capital share in GDP.\n",
    "\n",
    "$\\beta$ is the subjective discount factor.\n",
    "\n",
    "$\\gamma$ is the curvature of the utility function.  In our example this is the constant elasticity of intertemporal substitition.  It is also the constant coefficient of relative risk aversion.\n",
    "\n",
    "$\\delta$ is the rate of capital depreciation.\n",
    "\n",
    "$\\rho$ is the autocorrelation of $z_t$.\n",
    "\n",
    "$\\sigma$ is the standard deviation of the $\\varepsilon_t$ shocks."
   ]
  },
  {
   "cell_type": "markdown",
   "metadata": {},
   "source": [
    "Suppose the household's Bellman equation is given by:\n",
    "$$ V(k_t, z_t) = \\max_{k_{t+1}} \\frac{c_t^{1-\\gamma}-1}{1-\\gamma} + \\beta V(k_{t+1}, z_{t+1}) $$\n",
    "\n",
    "$$ c_t = w_t + (1+r_t-\\delta)k_t - k_{t+1} $$\n",
    "\n",
    "The first-order condition is:\n",
    "$$ c_t^{-\\gamma} = \\beta V_k(k_{t+1}, z_{t+1}) $$\n",
    "The envelope condition is:\n",
    "$$ \\beta V_k(k_t, z_t) = c_t^{-\\gamma}(1+r_t-\\delta) $$\n",
    "Combining give the Euler equation:\n",
    "$$ c_t^{-\\gamma} = \\beta c_{t+1}^{-\\gamma}(1+r_{t+1}-\\delta) $$\n",
    "\n",
    "From the firm's problem we have the following:\n",
    "$$ y_t = k_t^\\alpha e^{(1-\\alpha)z_t} $$\n",
    "$$ r_t = \\alpha \\frac{y_t}{k_t} $$\n",
    "$$ w_t = (1-\\alpha)y_t $$\n",
    "\n",
    "Finally, we assume the following law of motion for $ z_t $:\n",
    "$$ z_t = \\rho z_{t-1} + \\varepsilon_t; \\varepsilon_t \\sim iid(0,\\sigma^2) $$"
   ]
  },
  {
   "cell_type": "markdown",
   "metadata": {},
   "source": [
    "## Programming Definitions Functions"
   ]
  },
  {
   "cell_type": "markdown",
   "metadata": {},
   "source": [
    "We want to write a function, $\\Gamma(X_{t+1}, X_t, X_{t-1}, Y_{t+1}, Y_t, Z_{t+1}, Z_t) = 0 $ based on the Euler equation.  We will define our set of endogenous state variables as $X_t = k_{t+1}$, $Y_t = \\emptyset$, and $Z_t = z_t$."
   ]
  },
  {
   "cell_type": "markdown",
   "metadata": {},
   "source": [
    "First we can define $y_t, r_t, w_t$ and $c_t$ as functions of the state $(k_t, z_t)$ using the budget constraint and the conditions from the firm's problem.  The parameters of the model, $\\alpha, \\beta, \\gamma, \\delta, \\rho, \\& \\sigma$, are included in the Python list `mparams`.\n",
    "\n",
    "$$ y_t = k_t^\\alpha e^{(1-\\alpha)z_t} $$\n",
    "$$ r_t = \\alpha \\frac{y_t}{k_t} $$\n",
    "$$ w_t = (1-\\alpha)y_t $$\n",
    "$$ c_t = w_t + (1+r_t-\\delta)k_t - k_{t+1} $$\n",
    "$$ i_t = y_t - c_t $$\n",
    "$$ u_t = \\frac{c_t^{1-\\gamma}-1}{1-\\gamma} $$"
   ]
  },
  {
   "cell_type": "code",
   "execution_count": 28,
   "metadata": {},
   "outputs": [],
   "source": [
    "def modeldefs(Xm, Xn, Z, *mparams):\n",
    "    # unpack sets\n",
    "    k = Xm                            # k(t-1)\n",
    "    kp = Xn                           # k(t)\n",
    "    z = Z                             # z(t)\n",
    "    # find variables\n",
    "    y = k**alpha*np.exp((1-alpha)*z)  # y(t)\n",
    "    r = alpha*y/k                     # r(t)\n",
    "    w = (1-alpha)*y                   # w(t)\n",
    "    c = w + (1+r-delta)*k - kp        # c(t)\n",
    "    i = y - c                         # i(t)\n",
    "    if gamma == 1.0:                  # u(t)\n",
    "        u = np.log(c)\n",
    "    else:\n",
    "        u = (c**(1-gamma)-1)/(1-gamma)\n",
    "    if np.isnan(u) or np.isinf(u):\n",
    "        u = -1.0E+99\n",
    "    return y, r, w, c, i, u"
   ]
  },
  {
   "cell_type": "markdown",
   "metadata": {},
   "source": [
    "Next we define our $\\Gamma$ function which is simply the Euler equation rewritten.\n",
    "$$ \\Gamma = c_t^{-\\gamma} - \\beta c_{t+1}^{-\\gamma} (1+r_{t+1}-\\delta) $$\n"
   ]
  },
  {
   "cell_type": "code",
   "execution_count": 29,
   "metadata": {},
   "outputs": [],
   "source": [
    "def Gamma(invec, *mparams):\n",
    "    # unpack input vector\n",
    "    kpp = invec[0]    # k(t+2)\n",
    "    kp = invec[1]     # k(t+1)\n",
    "    k = invec[2]      # k(t)\n",
    "    zp = invec[3]     # z(t+1)\n",
    "    z = invec[4]      # z(t)\n",
    "    # find period t values\n",
    "    y, r, w, c, i, u = modeldefs(k, kp, z, *mparams)\n",
    "    # find period t+1 values\n",
    "    yp, rp, wp, cp, ip, up = modeldefs(kp, kpp, zp, *mparams)\n",
    "    # calculate Euler equation (Gamma function)\n",
    "    Gamma = c**(-gamma) - beta*(cp)**(-gamma)*(1+rp-delta)\n",
    "    return Gamma"
   ]
  },
  {
   "cell_type": "markdown",
   "metadata": {},
   "source": [
    "The advantage of writing the code with two functions is that we only need to code the definitions once.  We call that function twice, but we minimize the number of functions we need to code.  An alternative would be to use the following single function.\n"
   ]
  },
  {
   "cell_type": "code",
   "execution_count": 30,
   "metadata": {},
   "outputs": [],
   "source": [
    "def Gamma2(invec, *mparams):\n",
    "    # unpack sets\n",
    "    kpp = invec[0]    # k(t+2)\n",
    "    kp = invec[1]     # k(t+1)\n",
    "    k = invec[2]      # k(t)\n",
    "    zp = invec[3]     # z(t+1)\n",
    "    z = invec[4]      # z(t)\n",
    "    # find period t values\n",
    "    y = k**alpha*np.exp((1-alpha)*z)    # y(t)\n",
    "    r = alpha*y/k                       # r(t)\n",
    "    w = (1-alpha)*y                     # w(t)\n",
    "    c = w + (1+r-delta)*k - kp          # c(t)\n",
    "    i = y - c                           # i(t)\n",
    "    if gamma == 1.0:                  # u(t)\n",
    "        u = np.log(c)\n",
    "    else:\n",
    "        u = (c**(1-gamma)-1)/(1-gamma)\n",
    "    if np.isnan(u) or np.isinf(u):\n",
    "        u = -1.0E+99\n",
    "    # find period t+1 values\n",
    "    yp = kp**alpha*np.exp((1-alpha)*zp) # y(t+1)\n",
    "    rp = alpha*yp/kp                    # r(t+1)\n",
    "    wp = (1-alpha)*yp                   # w(t+1)\n",
    "    cp = wp + (1+rp-delta)*kp - kpp     # c(t+1)\n",
    "    ip = yp - cp                        # i(t+1)\n",
    "    if gamma == 1.0:                  # u(t)\n",
    "        up = np.log(cp)\n",
    "    else:\n",
    "        up = (cp**(1-gamma)-1)/(1-gamma)\n",
    "    if np.isnan(u) or np.isinf(u):\n",
    "        up = -1.0E+99\n",
    "    # calculate Euler equation (Gamma function)\n",
    "    Gamma = beta*(c/cp)**(gamma)*(1+rp-delta)\n",
    "    return Gamma"
   ]
  },
  {
   "cell_type": "markdown",
   "metadata": {},
   "source": [
    "However, using the function below requires making changes to each defitional function twice if we have made a coding error or if we change the model.  In addition, the definitions function is useful by itself for finding steady state and simulation values for y, r, w, c and i."
   ]
  },
  {
   "cell_type": "markdown",
   "metadata": {},
   "source": [
    "## Writing the Main Program"
   ]
  },
  {
   "cell_type": "markdown",
   "metadata": {},
   "source": [
    "Now we can write a program that will solve and simulate our model.\n",
    "First we need to call the Python packages and files we need."
   ]
  },
  {
   "cell_type": "code",
   "execution_count": 31,
   "metadata": {},
   "outputs": [],
   "source": [
    "import numpy as np\n",
    "import scipy as sp\n",
    "import matplotlib.pyplot as plt\n",
    "import scipy.optimize as opt\n",
    "from LinApp_FindSS import LinApp_FindSS\n",
    "from LinApp_Deriv import LinApp_Deriv\n",
    "from LinApp_Solve import LinApp_Solve\n",
    "from LinApp_SSL import LinApp_SSL"
   ]
  },
  {
   "cell_type": "markdown",
   "metadata": {},
   "source": [
    "Next we set our parameter values."
   ]
  },
  {
   "cell_type": "code",
   "execution_count": 32,
   "metadata": {},
   "outputs": [],
   "source": [
    "alpha = .33\n",
    "beta = .95\n",
    "gamma = 2.5\n",
    "delta = .08\n",
    "rho = .9\n",
    "sigma = .02\n",
    "mparams = (alpha, beta, gamma, delta, rho, sigma)"
   ]
  },
  {
   "cell_type": "markdown",
   "metadata": {},
   "source": [
    "### Finding the Steady State"
   ]
  },
  {
   "cell_type": "markdown",
   "metadata": {},
   "source": [
    "To find the steady state we use LinApp_FindSS.\n",
    "\n",
    "This function takes the form - LinApp_FindSS(funcname, param, guessXY, Zbar, nx, ny), where funcname will be \"Gamma\", param will be \"mparams\", guessXY will be scalar guess for the value of kbar, Zbar is 0, nx is 1, and ny is 0.  The output is XYbar, which will just be kbar in our case.  guessXY and Zbar need to be numpy arrays.\n"
   ]
  },
  {
   "cell_type": "code",
   "execution_count": 33,
   "metadata": {},
   "outputs": [
    {
     "name": "stdout",
     "output_type": "stream",
     "text": [
      "kbar:  3.8980397970046137\n",
      "check: 0.0\n"
     ]
    }
   ],
   "source": [
    "# find the steady state\n",
    "guessXY = np.array([1.])\n",
    "zbar = np.array([0.])\n",
    "XYbar = LinApp_FindSS(Gamma, mparams, guessXY, zbar, 1, 0)\n",
    "kbar = XYbar[0]\n",
    "# check solution works\n",
    "invec = np.array([kbar, kbar, kbar, 0., 0.])\n",
    "check = Gamma(invec, *mparams)\n",
    "print('kbar: ', kbar)\n",
    "print('check:', check)"
   ]
  },
  {
   "cell_type": "markdown",
   "metadata": {},
   "source": [
    "We can get the steady states for all the other variables using our definintions function"
   ]
  },
  {
   "cell_type": "code",
   "execution_count": 34,
   "metadata": {},
   "outputs": [
    {
     "name": "stdout",
     "output_type": "stream",
     "text": [
      "ybar:  [1.56667628]\n",
      "rbar:  [0.13263158]\n",
      "wbar:  [1.04967311]\n",
      "cbar:  [1.2548331]\n",
      "ibar:  [0.31184318]\n",
      "ubar:  [0.19239215]\n"
     ]
    }
   ],
   "source": [
    "ybar, rbar, wbar, cbar, ibar, ubar = modeldefs(kbar, kbar, zbar, *mparams)\n",
    "print('ybar: ', ybar)\n",
    "print('rbar: ', rbar)\n",
    "print('wbar: ', wbar)\n",
    "print('cbar: ', cbar)\n",
    "print('ibar: ', ibar)\n",
    "print('ubar: ', ubar)"
   ]
  },
  {
   "cell_type": "markdown",
   "metadata": {},
   "source": [
    "### Solving for the Policy Function Parameters"
   ]
  },
  {
   "cell_type": "markdown",
   "metadata": {},
   "source": [
    "The next step is to find the derivatives of the Gamma function and then use these to solve for the coefficients of the linear policy function.  This requires using LinApp_Deriv and LinApp_Solve.\n",
    "\n",
    "We linearize or log-linearize the $\\Gamma(X_{t+1}, X_t, X_{t-1}, Y_{t+1}, Y_t, Z_{t+1}, Z_t) = 0 $ function about the steady state to get the following approximations.\n",
    "\n",
    "$$ A \\tilde X_{t} + B\\tilde X_{t-1} + C \\tilde Y_{t} + D \\tilde Z_{t} = 0$$\n",
    "\n",
    "$$E_t\\left\\{F \\tilde X_{t+1} + G \\tilde X_{t} + H \\tilde X_{t-1} + J \\tilde Y_{t+1} + K \\tilde Y_{t} + L \\tilde Z_{t+1} + M \\tilde Z_{t} \\right\\}= 0$$\n",
    "\n",
    "The top equation approximates the equation(s) defining any jump variables, while the bottom one approximates the equations(s) defining the endogenous state variable(s).\n",
    "\n",
    "Since we have no jump variables, we can ignore the top equation and write the bottom one as:\n",
    "\n",
    "$$E_t\\left\\{F \\tilde X_{t+1} + G \\tilde X_{t} + H \\tilde X_{t-1} + L \\tilde Z_{t+1} + M \\tilde Z_{t} \\right\\}= 0$$\n",
    "\n",
    "The linearized policy and jump functions are given by:\n",
    "\n",
    "$$\\tilde X_{t} = P \\tilde X_{t-1} + Q \\tilde Z_{t}$$\n",
    "\n",
    "$$\\tilde Y_{t} = R \\tilde X_{t-1} + S \\tilde Z_{t}$$\n",
    "\n",
    "Note that $\\tilde X_{t}$ is $X_{t} - \\bar X$ if we are simply linearizing, and is $\\frac{X_{t} - $X_{t} - \\bar X$}{$X_{t} - \\bar X}$ if we are log-linearizing.  The `LinApp_Deriv` function has an option that takes the appropriate derivatives.\n"
   ]
  },
  {
   "cell_type": "code",
   "execution_count": 35,
   "metadata": {},
   "outputs": [
    {
     "name": "stdout",
     "output_type": "stream",
     "text": [
      "PP: [[0.92276239]]\n",
      "QQ [[0.59443154]]\n"
     ]
    }
   ],
   "source": [
    "# find derivatives of Gamma\n",
    "\n",
    "# set the options for LinApp_Deriv\n",
    "nx = 1  # number of X variables\n",
    "ny = 0  # number of Y variables\n",
    "nz = 1  # number of Z variables\n",
    "takelogs = False  # if True the model is log-linearized, otherwise simple linearization\n",
    "\n",
    "[AA, BB, CC, DD, FF, GG, HH, JJ, KK, LL, MM] = \\\n",
    "    LinApp_Deriv(Gamma, mparams, invec, nx, ny, nz, takelogs)\n",
    "\n",
    "# set the options for LinApp_Solve\n",
    "Sylv = False  # if True use Python's built-in Sylvester equation solver, otherwise us the code in LinApp_Solve\n",
    "\n",
    "# NN is the autoregressive parameter in z's law of motion\n",
    "NN = rho\n",
    "# solve for coefficients\n",
    "PP, QQ, RR, SS = \\\n",
    "    LinApp_Solve(AA, BB, CC, DD, FF, GG, HH, JJ, KK, LL, MM, NN, zbar, Sylv)\n",
    "print('PP:',PP)\n",
    "print('QQ', QQ)\n"
   ]
  },
  {
   "cell_type": "markdown",
   "metadata": {},
   "source": [
    "### Simulating the Model"
   ]
  },
  {
   "cell_type": "markdown",
   "metadata": {},
   "source": [
    "Finally we simulate our model using LinApp_SSL\n",
    "\n",
    "This function takes the form - LinApp_SSL(X0, Z, XYbar, logX, PP, QQ, RR, SS), where X0 is the starting value and Z is a numpy array containing a history of Z's generated using the law of motion.  Both Z and kbar must be 2-dimensional numpy arrays.\n"
   ]
  },
  {
   "cell_type": "code",
   "execution_count": 36,
   "metadata": {},
   "outputs": [],
   "source": [
    "# generate a history of Z's\n",
    "T = 1000  # number of observations to generate\n",
    "# initialize Z\n",
    "zhist = np.zeros((T,1))\n",
    "# generate a history of epsilon shocks with mean zero and variance sigma-squared\n",
    "epshist = np.random.randn(T,1)*sigma\n",
    "# iteratively generate Z's starting with the first value of Z = 0\n",
    "for t in range (1,T):\n",
    "    zhist[t,:] = rho*zhist[t-1,:] + epshist[t,:]\n",
    "# generate a history of k's\n",
    "kbar2 = np.array([[kbar]])\n",
    "khist, temp = LinApp_SSL(kbar2, zhist, kbar2, takelogs, PP, QQ, RR, SS)"
   ]
  },
  {
   "cell_type": "markdown",
   "metadata": {},
   "source": [
    "With a history of k's and z's we have a history of all our state variables.  We can use our definitions function to get the histories of all the other variables."
   ]
  },
  {
   "cell_type": "code",
   "execution_count": 37,
   "metadata": {},
   "outputs": [],
   "source": [
    "# initialize histories of all other variables\n",
    "yhist = np.zeros(T)\n",
    "rhist = np.zeros(T)\n",
    "whist = np.zeros(T)\n",
    "chist = np.zeros(T)\n",
    "ihist = np.zeros(T)\n",
    "uhist = np.zeros(T)\n",
    "# set initial values noting we started at the steady state\n",
    "yhist[0] = ybar\n",
    "rhist[0] = rbar\n",
    "whist[0] = wbar\n",
    "chist[0] = cbar\n",
    "ihist[0] = ibar\n",
    "uhist[0] = ubar\n",
    "# compute values for all other time periods\n",
    "for t in range(1, T-1):\n",
    "    yhist[t], rhist[t], whist[t], chist[t], ihist[t], uhist[t] = \\\n",
    "        modeldefs(khist[t-1], khist[t], zhist[t,:], *mparams)"
   ]
  },
  {
   "cell_type": "markdown",
   "metadata": {},
   "source": [
    "Lastly we can plot our simulated data"
   ]
  },
  {
   "cell_type": "code",
   "execution_count": 38,
   "metadata": {},
   "outputs": [
    {
     "data": {
      "image/png": "[encoded data removed]",
      "text/plain": [
       "<Figure size 432x288 with 1 Axes>"
      ]
     },
     "metadata": {
      "needs_background": "light"
     },
     "output_type": "display_data"
    }
   ],
   "source": [
    "# plot data\n",
    "t = range(0, T)\n",
    "plt.plot(t, khist, label='k')\n",
    "plt.plot(t, zhist, label='z')\n",
    "plt.plot(t, yhist, label='y')\n",
    "plt.plot(t, rhist, label='r')\n",
    "plt.plot(t, whist, label='w')\n",
    "plt.plot(t, chist, label='c')\n",
    "plt.plot(t, ihist, label='i')\n",
    "plt.plot(t, uhist, label='u')\n",
    "plt.xlabel('time')\n",
    "plt.legend(loc=9, ncol=4, bbox_to_anchor=(0., 1.02, 1., .102))\n",
    "plt.show()"
   ]
  },
  {
   "cell_type": "code",
   "execution_count": 45,
   "metadata": {},
   "outputs": [
    {
     "data": {
      "text/plain": [
       "array([0.31184318, 0.31184318, 0.3168201 , 0.29825795, 0.30561149,\n",
       "       0.31249674, 0.31902113, 0.31514261, 0.31330586, 0.34716081,\n",
       "       0.34814812, 0.35732762, 0.36660561, 0.36850573, 0.34965368,\n",
       "       0.34401949, 0.34675842, 0.35176395, 0.33085678, 0.33257315,\n",
       "       0.31844908, 0.32311666, 0.32810108, 0.32062952, 0.34584671,\n",
       "       0.34087742, 0.34458184, 0.35011936, 0.35766571, 0.36268644,\n",
       "       0.36066504, 0.35443218, 0.3525606 , 0.36958073, 0.37449475,\n",
       "       0.38121243, 0.3690382 , 0.37264003, 0.35517036, 0.34493188,\n",
       "       0.35240706, 0.35835728, 0.36624257, 0.36735538, 0.36274486,\n",
       "       0.35580719, 0.37644758, 0.38998763, 0.38188639, 0.36932415,\n",
       "       0.34603628, 0.34028995, 0.32505479, 0.31207236, 0.3164465 ,\n",
       "       0.30788309, 0.30077321, 0.3070856 , 0.302924  , 0.30337896,\n",
       "       0.31560427, 0.32576157, 0.31687308, 0.30975421, 0.30095336,\n",
       "       0.29667018, 0.3131049 , 0.31840171, 0.30166568, 0.30216282,\n",
       "       0.29496781, 0.28258292, 0.26926169, 0.2954376 , 0.29109718,\n",
       "       0.29009558, 0.28684394, 0.28423462, 0.28413467, 0.28670694,\n",
       "       0.29347778, 0.25711299, 0.27373302, 0.26647096, 0.28215342,\n",
       "       0.26307317, 0.25536293, 0.26974642, 0.25093809, 0.25020856,\n",
       "       0.23667685, 0.25170028, 0.242566  , 0.24115366, 0.23400373,\n",
       "       0.2291209 , 0.23729261, 0.23308062, 0.22732394, 0.24132902,\n",
       "       0.2752589 , 0.27315747, 0.25012813, 0.25944076, 0.27389181,\n",
       "       0.25421684, 0.25161239, 0.25890025, 0.26169436, 0.26564133,\n",
       "       0.28799974, 0.28779795, 0.27721785, 0.28906846, 0.28057899,\n",
       "       0.28601159, 0.29175516, 0.28882669, 0.29474825, 0.29375531,\n",
       "       0.29508203, 0.30340575, 0.33351962, 0.34729058, 0.34633788,\n",
       "       0.36567718, 0.36251269, 0.35946976, 0.3566985 , 0.34905198,\n",
       "       0.35045681, 0.35812833, 0.34415752, 0.35207642, 0.35276547,\n",
       "       0.34867353, 0.36195307, 0.34973131, 0.35646601, 0.35120862,\n",
       "       0.33564439, 0.33772655, 0.34045469, 0.34029341, 0.31252515,\n",
       "       0.30822566, 0.32400519, 0.32188818, 0.32366068, 0.32108167,\n",
       "       0.31301784, 0.32736464, 0.32428042, 0.32276161, 0.33865687,\n",
       "       0.33474346, 0.32872241, 0.31757572, 0.32739011, 0.34308125,\n",
       "       0.35518929, 0.32838013, 0.31471211, 0.30378085, 0.29630153,\n",
       "       0.29494198, 0.2797669 , 0.28981393, 0.30649944, 0.30496209,\n",
       "       0.30877894, 0.31647429, 0.31933554, 0.33643754, 0.33294774,\n",
       "       0.34004797, 0.34328239, 0.32253399, 0.31681224, 0.30324586,\n",
       "       0.30582975, 0.29602831, 0.30436313, 0.29734004, 0.28179881,\n",
       "       0.27604843, 0.26290147, 0.26792957, 0.25584756, 0.26259765,\n",
       "       0.27873385, 0.28080745, 0.28844033, 0.28925419, 0.31080202,\n",
       "       0.31789847, 0.32390422, 0.29018128, 0.27787844, 0.2721589 ,\n",
       "       0.28518109, 0.26991792, 0.25837169, 0.27245962, 0.27019076,\n",
       "       0.27171716, 0.2724333 , 0.29035278, 0.2716087 , 0.28641102,\n",
       "       0.30198494, 0.29184016, 0.32380969, 0.32547972, 0.31462802,\n",
       "       0.31939568, 0.30523289, 0.3239609 , 0.33427168, 0.32614474,\n",
       "       0.30710545, 0.32735442, 0.34743037, 0.35093013, 0.35066842,\n",
       "       0.34916402, 0.34759529, 0.35272796, 0.36204398, 0.34327636,\n",
       "       0.32342999, 0.32335961, 0.29999609, 0.29347513, 0.28533621,\n",
       "       0.28411376, 0.28480996, 0.30798549, 0.30267659, 0.30480367,\n",
       "       0.29362481, 0.30975312, 0.31984109, 0.33107525, 0.34704795,\n",
       "       0.35200723, 0.35296591, 0.33896431, 0.33337568, 0.32214648,\n",
       "       0.32848417, 0.35612391, 0.37509665, 0.37262152, 0.35358558,\n",
       "       0.36664959, 0.36941709, 0.36054346, 0.3543948 , 0.36045801,\n",
       "       0.36636873, 0.36003503, 0.33458407, 0.33534247, 0.33148108,\n",
       "       0.31489339, 0.3232547 , 0.34535532, 0.35598319, 0.3563262 ,\n",
       "       0.36166414, 0.35420497, 0.36563647, 0.35036188, 0.37295751,\n",
       "       0.355543  , 0.35038346, 0.33676418, 0.3371671 , 0.33157222,\n",
       "       0.32546601, 0.32036345, 0.32253435, 0.31052768, 0.31289804,\n",
       "       0.31837931, 0.32598029, 0.32037674, 0.30596468, 0.30186157,\n",
       "       0.29634683, 0.28916406, 0.29190492, 0.28648119, 0.29557989,\n",
       "       0.30910653, 0.33673319, 0.34689729, 0.32678064, 0.35478426,\n",
       "       0.35432864, 0.34892368, 0.34723787, 0.34726249, 0.32949811,\n",
       "       0.33053653, 0.32588678, 0.31967034, 0.30896554, 0.31608338,\n",
       "       0.29171497, 0.30596881, 0.30169183, 0.32410406, 0.30329611,\n",
       "       0.30864852, 0.31077219, 0.33118601, 0.32611851, 0.32641799,\n",
       "       0.31605535, 0.32669869, 0.33043162, 0.32738009, 0.31903343,\n",
       "       0.33386524, 0.30518041, 0.29868323, 0.30122409, 0.32188846,\n",
       "       0.33511342, 0.33477674, 0.35403784, 0.34024751, 0.36719598,\n",
       "       0.35454249, 0.34895301, 0.36547716, 0.35909877, 0.33844694,\n",
       "       0.3426402 , 0.3327181 , 0.34060232, 0.33861439, 0.34600638,\n",
       "       0.36528373, 0.33483067, 0.34473701, 0.35438792, 0.32368815,\n",
       "       0.3078781 , 0.30343494, 0.31246593, 0.31383808, 0.33383329,\n",
       "       0.33867986, 0.34177824, 0.31640156, 0.31321383, 0.29841952,\n",
       "       0.30086782, 0.31996729, 0.32450281, 0.32685615, 0.3207827 ,\n",
       "       0.33794287, 0.3382571 , 0.32331078, 0.31585507, 0.31317462,\n",
       "       0.30585948, 0.29055393, 0.29290391, 0.27773908, 0.26425692,\n",
       "       0.26333735, 0.26694746, 0.2860685 , 0.27968239, 0.2659218 ,\n",
       "       0.26481759, 0.28449096, 0.29974759, 0.31629287, 0.32677292,\n",
       "       0.30801138, 0.30384094, 0.32289836, 0.31391222, 0.3263023 ,\n",
       "       0.3389643 , 0.35064217, 0.34541   , 0.34947965, 0.3407229 ,\n",
       "       0.3467574 , 0.35421086, 0.3354435 , 0.32773124, 0.31137023,\n",
       "       0.33038355, 0.32018547, 0.33333822, 0.32737675, 0.31665603,\n",
       "       0.30173912, 0.30902814, 0.3190075 , 0.31840509, 0.32666145,\n",
       "       0.30491043, 0.32147359, 0.30359545, 0.30106494, 0.31829013,\n",
       "       0.33131778, 0.32408181, 0.33203284, 0.32538043, 0.33085322,\n",
       "       0.30633805, 0.30045412, 0.31482568, 0.29240809, 0.30753685,\n",
       "       0.31783671, 0.30993338, 0.31370801, 0.30571674, 0.30465656,\n",
       "       0.30678812, 0.30768808, 0.31464122, 0.32018679, 0.32450253,\n",
       "       0.33097937, 0.33154982, 0.33240417, 0.32698455, 0.32429164,\n",
       "       0.31126528, 0.31256554, 0.32131142, 0.32215307, 0.28339667,\n",
       "       0.29333866, 0.31166256, 0.30135055, 0.31229974, 0.32521166,\n",
       "       0.31910102, 0.31505057, 0.32231614, 0.33976348, 0.34723757,\n",
       "       0.34417497, 0.33749751, 0.33537987, 0.33508005, 0.32266681,\n",
       "       0.33691145, 0.32061805, 0.31313916, 0.32332998, 0.30302555,\n",
       "       0.30567782, 0.30370227, 0.28863887, 0.26720373, 0.2566139 ,\n",
       "       0.26538486, 0.28877906, 0.27935316, 0.26376146, 0.25724543,\n",
       "       0.27159414, 0.28787393, 0.30095748, 0.29793346, 0.29725003,\n",
       "       0.30741102, 0.32093769, 0.33404009, 0.32956445, 0.33150138,\n",
       "       0.32892589, 0.34161444, 0.34959514, 0.33624541, 0.34301275,\n",
       "       0.32436166, 0.32458324, 0.32280953, 0.33074257, 0.32429541,\n",
       "       0.3033931 , 0.31187597, 0.32560028, 0.35008793, 0.34411709,\n",
       "       0.36434312, 0.35633844, 0.35128853, 0.37066128, 0.36071416,\n",
       "       0.33916693, 0.3311504 , 0.34763706, 0.33706543, 0.3504814 ,\n",
       "       0.33396901, 0.33506714, 0.3443683 , 0.34309264, 0.34317012,\n",
       "       0.34355146, 0.34863934, 0.33553178, 0.33399688, 0.3249347 ,\n",
       "       0.31896499, 0.31320605, 0.31603816, 0.32131173, 0.31618346,\n",
       "       0.30602314, 0.31062822, 0.32664375, 0.32822179, 0.32644705,\n",
       "       0.32554169, 0.30930246, 0.30910769, 0.30875786, 0.3104427 ,\n",
       "       0.29796083, 0.2894893 , 0.29479866, 0.28625687, 0.27140275,\n",
       "       0.26243269, 0.2780294 , 0.279833  , 0.28789012, 0.32066494,\n",
       "       0.31278767, 0.31590706, 0.31201009, 0.30412905, 0.31359888,\n",
       "       0.32490732, 0.3217287 , 0.33679729, 0.32655281, 0.33427025,\n",
       "       0.33557504, 0.33713134, 0.3271926 , 0.32589428, 0.32514918,\n",
       "       0.32501289, 0.30160937, 0.29887121, 0.30092989, 0.29635976,\n",
       "       0.2846001 , 0.28292125, 0.2875786 , 0.28230477, 0.28306713,\n",
       "       0.28591224, 0.27423958, 0.30650785, 0.28975558, 0.28983668,\n",
       "       0.28395124, 0.27861241, 0.28163145, 0.2793929 , 0.25280298,\n",
       "       0.24270115, 0.24180861, 0.2519245 , 0.25236031, 0.25065636,\n",
       "       0.24757303, 0.26587699, 0.2622852 , 0.25948018, 0.24814434,\n",
       "       0.22229461, 0.23239892, 0.24316892, 0.26081616, 0.27355042,\n",
       "       0.29260251, 0.30168221, 0.29911385, 0.28408916, 0.29760206,\n",
       "       0.30171213, 0.31683505, 0.31791331, 0.32176719, 0.314731  ,\n",
       "       0.32677701, 0.29875103, 0.30553303, 0.3048376 , 0.30832655,\n",
       "       0.32059553, 0.33456365, 0.31645777, 0.31359027, 0.30948313,\n",
       "       0.29058927, 0.29014799, 0.29724341, 0.28674723, 0.28140927,\n",
       "       0.29465313, 0.29342623, 0.30959228, 0.314118  , 0.30633088,\n",
       "       0.31033803, 0.30542082, 0.31005532, 0.29615813, 0.29881924,\n",
       "       0.29355549, 0.3005177 , 0.30286476, 0.29678298, 0.29917001,\n",
       "       0.30718982, 0.29411108, 0.30412632, 0.28519045, 0.31196803,\n",
       "       0.3102867 , 0.32377222, 0.30942343, 0.31453344, 0.30304095,\n",
       "       0.31744275, 0.29743315, 0.29656338, 0.29424835, 0.29550973,\n",
       "       0.29093489, 0.30646707, 0.3273783 , 0.3069137 , 0.31308774,\n",
       "       0.30584572, 0.29233497, 0.27475835, 0.2763104 , 0.27266348,\n",
       "       0.25980388, 0.26670195, 0.2521777 , 0.27274437, 0.26832258,\n",
       "       0.2833142 , 0.26057823, 0.28651906, 0.29000527, 0.30841928,\n",
       "       0.29694551, 0.29856445, 0.31643617, 0.32179264, 0.32573947,\n",
       "       0.31909814, 0.29124827, 0.29933888, 0.28585662, 0.27873136,\n",
       "       0.29172613, 0.30678978, 0.30812432, 0.297167  , 0.30113743,\n",
       "       0.28782291, 0.28473862, 0.28819197, 0.30596761, 0.31579774,\n",
       "       0.30317832, 0.31356592, 0.31521688, 0.31479988, 0.31407582,\n",
       "       0.31375238, 0.33227468, 0.33259288, 0.33344407, 0.34838798,\n",
       "       0.34406733, 0.36038864, 0.35288096, 0.34846825, 0.33291294,\n",
       "       0.34948327, 0.3561729 , 0.36488944, 0.36194727, 0.35586895,\n",
       "       0.3522316 , 0.340179  , 0.3581616 , 0.33860414, 0.34897004,\n",
       "       0.33825813, 0.3206901 , 0.32215356, 0.33272458, 0.31934186,\n",
       "       0.31084815, 0.34037169, 0.32158446, 0.33981097, 0.3464953 ,\n",
       "       0.34325283, 0.34857922, 0.33670437, 0.35874991, 0.35774151,\n",
       "       0.36739887, 0.35722931, 0.33609608, 0.34512721, 0.34074736,\n",
       "       0.3524885 , 0.36020118, 0.35316811, 0.3494714 , 0.35974302,\n",
       "       0.35973934, 0.35791865, 0.37123771, 0.35724496, 0.35332412,\n",
       "       0.36448991, 0.37557663, 0.36348525, 0.34733672, 0.34417638,\n",
       "       0.35405445, 0.34616131, 0.33991021, 0.35311112, 0.34701282,\n",
       "       0.33818044, 0.344407  , 0.3354385 , 0.32913614, 0.34236428,\n",
       "       0.32627085, 0.32529742, 0.31708061, 0.30101477, 0.29081813,\n",
       "       0.29691848, 0.28469475, 0.30959632, 0.3064055 , 0.32663722,\n",
       "       0.32988255, 0.3308581 , 0.33354799, 0.33289658, 0.31251752,\n",
       "       0.30686149, 0.31182776, 0.31357496, 0.33548517, 0.3265495 ,\n",
       "       0.32440736, 0.32195722, 0.30563238, 0.31087642, 0.29007749,\n",
       "       0.28294721, 0.3006945 , 0.31556231, 0.31150745, 0.3269541 ,\n",
       "       0.33033451, 0.33868424, 0.32478848, 0.32628875, 0.33673757,\n",
       "       0.33984535, 0.32358341, 0.33858564, 0.32478641, 0.34502292,\n",
       "       0.34500001, 0.33051339, 0.32920055, 0.33192656, 0.33950517,\n",
       "       0.34239308, 0.32011598, 0.31352812, 0.30147795, 0.30846944,\n",
       "       0.30116624, 0.34021505, 0.32407607, 0.31395702, 0.32124106,\n",
       "       0.33110552, 0.31021084, 0.30252195, 0.30453146, 0.31321675,\n",
       "       0.31971753, 0.32201938, 0.34327168, 0.33094944, 0.31912941,\n",
       "       0.32779397, 0.31154429, 0.30981717, 0.29948322, 0.3116439 ,\n",
       "       0.32462929, 0.32577899, 0.31673066, 0.29282812, 0.3143921 ,\n",
       "       0.32263561, 0.33144531, 0.31005613, 0.30961072, 0.30516922,\n",
       "       0.28450216, 0.27647553, 0.29467565, 0.27714315, 0.28971101,\n",
       "       0.28984117, 0.27976212, 0.26898563, 0.27987724, 0.2801069 ,\n",
       "       0.28370333, 0.28543884, 0.27631473, 0.29740708, 0.30964717,\n",
       "       0.28875592, 0.26760402, 0.27556799, 0.27963765, 0.2701752 ,\n",
       "       0.28790987, 0.27716972, 0.31320111, 0.30295457, 0.31017328,\n",
       "       0.29963275, 0.2993497 , 0.29607369, 0.30585102, 0.30619264,\n",
       "       0.31098731, 0.30371567, 0.30198619, 0.30191747, 0.2927679 ,\n",
       "       0.29988071, 0.29458684, 0.29702826, 0.30088355, 0.30274871,\n",
       "       0.30313335, 0.31060075, 0.29897757, 0.30748659, 0.32359573,\n",
       "       0.33717105, 0.32745976, 0.32741249, 0.32632321, 0.3408758 ,\n",
       "       0.31439783, 0.31135488, 0.31757045, 0.31803088, 0.31974358,\n",
       "       0.31395695, 0.31809778, 0.31558199, 0.29986348, 0.30383631,\n",
       "       0.31739664, 0.33710677, 0.31974757, 0.33012699, 0.34327314,\n",
       "       0.32089664, 0.31454631, 0.32543134, 0.33945888, 0.31947357,\n",
       "       0.31985781, 0.30380777, 0.30658487, 0.31970159, 0.30894532,\n",
       "       0.32361857, 0.32875148, 0.32523736, 0.31482569, 0.32031608,\n",
       "       0.29335741, 0.32585196, 0.32650241, 0.34838174, 0.35036198,\n",
       "       0.34017005, 0.31718462, 0.31418816, 0.29083865, 0.29112037,\n",
       "       0.30651418, 0.31314878, 0.31205691, 0.30501033, 0.31637972,\n",
       "       0.31749023, 0.30474984, 0.32166919, 0.31638078, 0.32229976,\n",
       "       0.32010208, 0.31120724, 0.31209902, 0.30559846, 0.30946962,\n",
       "       0.31655919, 0.31742849, 0.31528586, 0.32171113, 0.31355336,\n",
       "       0.29451666, 0.2995453 , 0.31565703, 0.31823659, 0.31792694,\n",
       "       0.31807034, 0.31351628, 0.32498109, 0.33969024, 0.32734304,\n",
       "       0.32350377, 0.32516086, 0.33611892, 0.33879221, 0.33845956,\n",
       "       0.33383544, 0.33642061, 0.32867047, 0.34940484, 0.34979729,\n",
       "       0.33771202, 0.34434661, 0.34124177, 0.34360673, 0.33127847,\n",
       "       0.33930386, 0.36394736, 0.36370201, 0.37626784, 0.39090087,\n",
       "       0.39935858, 0.38222735, 0.39572674, 0.3563649 , 0.33102552,\n",
       "       0.326397  , 0.31694501, 0.31041151, 0.31057253, 0.32024148,\n",
       "       0.31428989, 0.32053527, 0.33569671, 0.31499276, 0.29338746,\n",
       "       0.26930903, 0.26873849, 0.27786218, 0.26910933, 0.        ])"
      ]
     },
     "execution_count": 45,
     "metadata": {},
     "output_type": "execute_result"
    }
   ],
   "source": [
    "ihist\n"
   ]
  },
  {
   "cell_type": "code",
   "execution_count": null,
   "metadata": {},
   "outputs": [],
   "source": []
  }
 ],
 "metadata": {
  "celltoolbar": "Raw Cell Format",
  "kernelspec": {
   "display_name": "Python 3",
   "language": "python",
   "name": "python3"
  },
  "language_info": {
   "codemirror_mode": {
    "name": "ipython",
    "version": 3
   },
   "file_extension": ".py",
   "mimetype": "text/x-python",
   "name": "python",
   "nbconvert_exporter": "python",
   "pygments_lexer": "ipython3",
   "version": "3.7.3"
  }
 },
 "nbformat": 4,
 "nbformat_minor": 2
}

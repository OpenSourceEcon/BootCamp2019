{
 "cells": [
  {
   "cell_type": "markdown",
   "metadata": {},
   "source": [
    "# Solving and Simulating a DSGE Model using the LinApp Tools in Python"
   ]
  },
  {
   "cell_type": "markdown",
   "metadata": {},
   "source": [
    "This notebook explains how to set up a DSGE model and solve it it Python using the linearization techniques implemented in the LinApp package.\n",
    "\n",
    "The LinApp package includes the following files:\n",
    "\n",
    "LinApp_Deriv - Takes a function, funcname.py, as an input.   Generates the derivative matrices needed for the Uhlig toolkit.\n",
    "\n",
    "LinApp_Solve - Takes the derivative matrices as inputs.  Uses the code from the Uhlig toolkit to generate the coefficients for the linearized policy function(s)."
   ]
  },
  {
   "cell_type": "markdown",
   "metadata": {},
   "source": [
    "### We begin by writing down the behavioral equations for a simple DSGE model.\n",
    "\n",
    "We use the following definitions:\n",
    "\n",
    "$k_t$ is the capital stock in period $t$.\n",
    "\n",
    "$\\ell_t$ is the labor supplied in period $t$.\n",
    "\n",
    "$z_t$ is the percent deviation of technology from its long-run value.\n",
    "\n",
    "$r_t$ is the rental rate on capital.\n",
    "\n",
    "$w_t$ is the wage rate.\n",
    "\n",
    "$c_t$ is private consumption.\n",
    "\n",
    "$i_t$ is investment.\n",
    "\n",
    "$\\varepsilon_t$ is the random innovation to $z_t$\n",
    "\n",
    "We also have the following parameters:\n",
    "$\\alpha$ is the capital share in GDP.\n",
    "\n",
    "$\\beta$ is the subjective discount factor.\n",
    "\n",
    "$\\gamma$ is the curvature of the utility function.  In our example this is the constant elasticity of intertemporal substitition.  It is also the constant coefficient of relative risk aversion.\n",
    "\n",
    "$\\delta$ is the rate of capital depreciation.\n",
    "\n",
    "$\\rho$ is the autocorrelation of $z_t$.\n",
    "\n",
    "$\\sigma$ is the standard deviation of the $\\varepsilon_t$ shocks."
   ]
  },
  {
   "cell_type": "markdown",
   "metadata": {},
   "source": [
    "Suppose the household's Bellman equation is given by:\n",
    "$$ V(k_t, z_t) = \\max_{k_{t+1}} \\frac{c_t^{1-\\gamma}-1}{1-\\gamma} - \\chi \\frac{1}{1+\\theta}\\ell^{1+\\theta} + \\beta V(k_{t+1}, z_{t+1}) $$\n",
    "\n",
    "$$ c_t = w_t + (1+r_t-\\delta)k_t - k_{t+1} $$\n",
    "\n",
    "The first-order conditions are:\n",
    "$$ c_t^{-\\gamma} = \\beta V_k(k_{t+1}, z_{t+1}) $$\n",
    "$$ c_t^{-\\gamma} w_t = \\chi \\ell^\\theta $$\n",
    "The envelope condition is:\n",
    "$$ \\beta V_k(k_t, z_t) = c_t^{-\\gamma}(1+r_t-\\delta) $$\n",
    "Combining give the Euler equation:\n",
    "$$ c_t^{-\\gamma} = \\beta c_{t+1}^{-\\gamma}(1+r_{t+1}-\\delta) $$\n",
    "\n",
    "From the firm's problem we have the following:\n",
    "$$ y_t = k_t^\\alpha e^{(1-\\alpha)z_t} $$\n",
    "$$ r_t = \\alpha \\frac{y_t}{k_t} $$\n",
    "$$ w_t = (1-\\alpha)y_t $$\n",
    "\n",
    "Finally, we assume the following law of motion for $ z_t $:\n",
    "$$ z_t = \\rho z_{t-1} + \\varepsilon_t; \\varepsilon_t \\sim iid(0,\\sigma^2) $$"
   ]
  },
  {
   "cell_type": "markdown",
   "metadata": {},
   "source": [
    "## Programming Definitions Functions"
   ]
  },
  {
   "cell_type": "markdown",
   "metadata": {},
   "source": [
    "We want to write a function, $\\Gamma(X_{t+1}, X_t, X_{t-1}, Y_{t+1}, Y_t, Z_{t+1}, Z_t) = 0 $ based on the Euler equation.  We will define our set of endogenous state variables as $X_t = k_{t+1}$, $Y_t = \\ell_t$, and $Z_t = z_t$."
   ]
  },
  {
   "cell_type": "markdown",
   "metadata": {},
   "source": [
    "First we can define $y_t, r_t, w_t$ and $c_t$ as functions of the state $(k_t, z_t)$ using the budget constraint and the conditions from the firm's problem.  The parameters of the model, $\\alpha, \\beta, \\gamma, \\delta, \\rho, \\& \\sigma$, are included in the Python list `mparams`.\n",
    "\n",
    "$$ y_t = k_t^\\alpha e^{(1-\\alpha)z_t} $$\n",
    "$$ r_t = \\alpha \\frac{y_t}{k_t} $$\n",
    "$$ w_t = (1-\\alpha)y_t $$\n",
    "$$ c_t = w_t + (1+r_t-\\delta)k_t - k_{t+1} $$\n",
    "$$ i_t = y_t - c_t $$\n",
    "$$ u_t = \\frac{c_t^{1-\\gamma}-1}{1-\\gamma} - \\chi \\frac{1}{1+\\theta}\\ell^{1+\\theta}$$"
   ]
  },
  {
   "cell_type": "code",
   "execution_count": 1,
   "metadata": {
    "collapsed": true
   },
   "outputs": [],
   "source": [
    "def Modeldefs(Xp, X, Y, Z, params):\n",
    "    '''\n",
    "    This function takes vectors of endogenous and exogenous state variables\n",
    "    along with a vector of 'jump' variables and returns explicitly defined\n",
    "    values for consumption, gdp, wages, real interest rates, and transfers\n",
    "    \n",
    "    Inputs are:\n",
    "        Xp: value of capital in next period\n",
    "        X: value of capital this period\n",
    "        Y: value of labor this period\n",
    "        Z: value of productivity this period\n",
    "        params: list of parameter values\n",
    "    \n",
    "    Output are:\n",
    "        Y: GDP\n",
    "        w: wage rate\n",
    "        r: rental rate on capital\n",
    "        T: transfer payments\n",
    "        c: consumption\n",
    "        u: utiity\n",
    "    '''\n",
    "    \n",
    "    # unpack input vectors\n",
    "    kp = Xp\n",
    "    k = X\n",
    "    ell = Y\n",
    "    z = Z\n",
    "    \n",
    "    # find definintion values\n",
    "    Y = k**alpha*(np.exp(z)*ell)**(1-alpha)\n",
    "    w = (1-alpha)*Y/ell\n",
    "    r = alpha*Y/k\n",
    "    c = (w*ell + (r - delta)*k) + k - kp\n",
    "    u = c**(1-gamma)/(1-gamma) - chi*ell**(1+theta)/(1+theta)\n",
    "    return Y, w, r, c, u"
   ]
  },
  {
   "cell_type": "markdown",
   "metadata": {},
   "source": [
    "Next we define our $\\Gamma$ function which is simply the Euler equation rewritten.\n",
    "$$ \\Gamma_1 = c_t^{-\\gamma}w_t - \\chi \\ell^\\theta $$\n",
    "$$ \\Gamma_2 = c_t^{-\\gamma} - \\beta c_{t+1}^{-\\gamma} (1+r_{t+1}-\\delta) $$\n"
   ]
  },
  {
   "cell_type": "code",
   "execution_count": 2,
   "metadata": {
    "collapsed": true
   },
   "outputs": [],
   "source": [
    "def Modeldyn(theta0, params):\n",
    "    '''\n",
    "    This function takes vectors of endogenous and exogenous state variables\n",
    "    along with a vector of 'jump' variables and returns values from the\n",
    "    characterizing Euler equations.\n",
    "    \n",
    "    Inputs are:\n",
    "        theta: a vector containng (Xpp, Xp, X, Yp, Y, Zp, Z) where:\n",
    "            Xpp: value of capital in two periods\n",
    "            Xp: value of capital in next period\n",
    "            X: value of capital this period\n",
    "            Yp: value of labor in next period\n",
    "            Y: value of labor this period\n",
    "            Zp: value of productivity in next period\n",
    "            Z: value of productivity this period\n",
    "        params: list of parameter values\n",
    "    \n",
    "    Output are:\n",
    "        Euler: a vector of Euler equations written so that they are zero at the\n",
    "            steady state values of X, Y & Z.  This is a 2x1 numpy array. \n",
    "    '''\n",
    "    \n",
    "    # unpack theat0\n",
    "    (Xpp, Xp, X, Yp, Y, Zp, Z) = theta0\n",
    "    \n",
    "    # find definitions for now and next period\n",
    "    Y, w, r, c, u = Modeldefs(Xp, X, Y, Z, params)\n",
    "    Yp, wp, rp, cp, up = Modeldefs(Xpp, Xp, Yp, Zp, params)\n",
    "    \n",
    "    # Evaluate Euler equations\n",
    "    ell = Y\n",
    "    E1 = (c**(-gamma)*w) / (chi*ell**theta) - 1\n",
    "    E2 = (c**(-gamma)) / (beta*cp**(-gamma)*(1 + rp - delta)) - 1\n",
    "    \n",
    "    \n",
    "    return np.array([E1, E2])"
   ]
  },
  {
   "cell_type": "markdown",
   "metadata": {},
   "source": [
    "The advantage of writing the code with two functions is that we only need to code the definitions once.  We call that function twice, but we minimize the number of functions we need to code.\n"
   ]
  },
  {
   "cell_type": "markdown",
   "metadata": {},
   "source": [
    "## Writing the Main Program"
   ]
  },
  {
   "cell_type": "markdown",
   "metadata": {},
   "source": [
    "Now we can write a program that will solve and simulate our model.\n",
    "First we need to call the Python packages and files we need."
   ]
  },
  {
   "cell_type": "code",
   "execution_count": 3,
   "metadata": {
    "collapsed": true
   },
   "outputs": [],
   "source": [
    "import numpy as np\n",
    "import scipy as sp\n",
    "import matplotlib.pyplot as plt\n",
    "import scipy.optimize as opt\n",
    "from LinApp_FindSS import LinApp_FindSS\n",
    "from LinApp_Deriv import LinApp_Deriv\n",
    "from LinApp_Solve import LinApp_Solve"
   ]
  },
  {
   "cell_type": "markdown",
   "metadata": {},
   "source": [
    "Next we set our parameter values."
   ]
  },
  {
   "cell_type": "code",
   "execution_count": 4,
   "metadata": {
    "collapsed": true
   },
   "outputs": [],
   "source": [
    "# set parameter values\n",
    "alpha = .35\n",
    "beta = .99\n",
    "gamma = 2.5\n",
    "delta = .08\n",
    "chi = 10.\n",
    "theta = 2.\n",
    "rho = .9\n",
    "sigma = .02\n",
    "\n",
    "# make parameter list to pass to functions\n",
    "params = (alpha, beta, gamma, delta, chi, theta, rho, sigma)\n",
    "\n",
    "# set LinApp parameters\n",
    "Zbar = np.array([0.])\n",
    "nx = 1\n",
    "ny = 1\n",
    "nz = 1\n",
    "logX = 0\n",
    "Sylv = 0"
   ]
  },
  {
   "cell_type": "markdown",
   "metadata": {},
   "source": [
    "### Finding the Steady State"
   ]
  },
  {
   "cell_type": "code",
   "execution_count": 5,
   "metadata": {},
   "outputs": [
    {
     "name": "stdout",
     "output_type": "stream",
     "text": [
      "XYbar:  [ 3.06094463  0.37947314]\n",
      "check:  [  5.48761037e-12   2.22044605e-16]\n"
     ]
    }
   ],
   "source": [
    "# take a guess for steady state values of k and ell\n",
    "guessXY = np.array([.1, .25])\n",
    "\n",
    "# find the steady state values using LinApp_FindSS\n",
    "XYbar = LinApp_FindSS(Modeldyn, params, guessXY, Zbar, nx, ny)\n",
    "(kbar, ellbar) = XYbar\n",
    "print ('XYbar: ', XYbar)\n",
    "\n",
    "# set up steady state input vector\n",
    "theta0 = np.array([kbar, kbar, kbar, ellbar, ellbar, 0., 0.])\n",
    "\n",
    "# check SS solution\n",
    "check = Modeldyn(theta0, params)\n",
    "print ('check: ', check)\n",
    "if np.max(np.abs(check)) > 1.E-6:\n",
    "    print ('Have NOT found steady state')"
   ]
  },
  {
   "cell_type": "markdown",
   "metadata": {},
   "source": [
    "We can get the steady states for all the other variables using our definintions function"
   ]
  },
  {
   "cell_type": "code",
   "execution_count": 6,
   "metadata": {},
   "outputs": [
    {
     "name": "stdout",
     "output_type": "stream",
     "text": [
      "Ybar:  0.787983436396\n",
      "wbar:  1.34973779755\n",
      "rbar:  0.090101010101\n",
      "cbar:  0.543107866251\n",
      "ubar:  -1.84778102019\n"
     ]
    }
   ],
   "source": [
    "Ybar, wbar, rbar, cbar, ubar = Modeldefs(kbar, kbar, ellbar, 0, params)\n",
    "print ('Ybar: ', Ybar)\n",
    "print ('wbar: ', wbar)\n",
    "print ('rbar: ', rbar)\n",
    "print ('cbar: ', cbar)\n",
    "print ('ubar: ', ubar)"
   ]
  },
  {
   "cell_type": "markdown",
   "metadata": {},
   "source": [
    "### Solving for the Policy Function Paramters"
   ]
  },
  {
   "cell_type": "markdown",
   "metadata": {},
   "source": [
    "The next step is to find the derivatives of the Gamma function and then use these to solve for the coefficients of the linear policy function.  This requires using LinApp_Deriv and LinApp_Solve."
   ]
  },
  {
   "cell_type": "code",
   "execution_count": 7,
   "metadata": {},
   "outputs": [
    {
     "name": "stdout",
     "output_type": "stream",
     "text": [
      "FF:  [[-4.60313716]]\n",
      "GG:  [[ 9.27171253]]\n",
      "HH:  [[-4.6496335]]\n",
      "LL:  [[ 2.29969729]]\n",
      "MM:  [[-2.35767729]]\n",
      "Sylvester equation solver condition is not satisfied; proceed with the original method...\n",
      "PP: [[ 0.86936886]]\n",
      "QQ [[ 0.20014313]]\n",
      "RR: [[-0.07216565]]\n",
      "SS [[-0.19755317]]\n"
     ]
    }
   ],
   "source": [
    "# find the derivatives matrices\n",
    "[AA, BB, CC, DD, FF, GG, HH, JJ, KK, LL, MM, WW, TT] = \\\n",
    "    LinApp_Deriv(Modeldyn, params, theta0, nx, ny, nz, logX)\n",
    "print('FF: ', FF)\n",
    "print('GG: ', GG)\n",
    "print('HH: ', HH)\n",
    "print('LL: ', LL)\n",
    "print('MM: ', MM)\n",
    "\n",
    "# set value for NN    \n",
    "NN = rho\n",
    "    \n",
    "# find the policy and jump function coefficients\n",
    "PP, QQ, UU, RR, SS, VV = \\\n",
    "    LinApp_Solve(AA,BB,CC,DD,FF,GG,HH,JJ,KK,LL,MM,WW,TT,NN,Zbar,Sylv)\n",
    "print ('PP:',PP)\n",
    "print ('QQ', QQ)\n",
    "print ('RR:',RR)\n",
    "print ('SS', SS)"
   ]
  },
  {
   "cell_type": "code",
   "execution_count": null,
   "metadata": {
    "collapsed": true
   },
   "outputs": [],
   "source": []
  }
 ],
 "metadata": {
  "celltoolbar": "Raw Cell Format",
  "kernelspec": {
   "display_name": "Python 3",
   "language": "python",
   "name": "python3"
  },
  "language_info": {
   "codemirror_mode": {
    "name": "ipython",
    "version": 3
   },
   "file_extension": ".py",
   "mimetype": "text/x-python",
   "name": "python",
   "nbconvert_exporter": "python",
   "pygments_lexer": "ipython3",
   "version": "3.7.3"
  }
 },
 "nbformat": 4,
 "nbformat_minor": 2
}

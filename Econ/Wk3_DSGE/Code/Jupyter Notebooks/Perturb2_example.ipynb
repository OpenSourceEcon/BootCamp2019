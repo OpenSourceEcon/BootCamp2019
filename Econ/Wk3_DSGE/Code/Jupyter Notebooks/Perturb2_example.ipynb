{
 "cells": [
  {
   "cell_type": "markdown",
   "metadata": {},
   "source": [
    "# Perturbation Exercise 2"
   ]
  },
  {
   "cell_type": "markdown",
   "metadata": {},
   "source": [
    "** Question:**\n",
    "\n",
    "Consider the following static general equlibrim model.  Firms have a demand for labor curve given by $n^d = \\left[\\frac{(1-\\alpha)z}{w}\\right]^{\\tfrac{1}{\\alpha}} k$, where $z$ is the level of technology, $w$ is the wage rate, $k$ is a fixed capital stock, and $\\alpha$ is a capital share parameter from a Cobb-Douglas production function.  Given this, the profits earned by the firm are $\\pi = zk^\\alpha (n^d)^{1-\\alpha} - w n^d$.  The supply of labor by households is $n^s = h - \\frac{b}{w(1+b)}(wh+\\pi-t)$, where $h$ is the time endowment of the household, is $t$ is a lump-sum tax, and $b$ is a weight in utility on leisure versus consumption of goods.  Assuming a unit measure of both households and firms, use the following parameter values $\\alpha = .33$, $k=5$, $z=1$, $b=2$, $t=.1$ and $h=24$.\n",
    "\n",
    "Find the market-clearing wage rate using $\\texttt{fsolve}$.  Find a first-order approxmation for wage as a function of $k$.  Approximate about $k=5$.  \n",
    "\n",
    "Find a second-order approximation also about $k=5$.\n",
    "\n",
    "Set up a grid on the space between $k=1$ and $k=15$. Use $\\texttt{fsolve}$ to find the equilibrium value of the wage at each point on the grid.\n",
    "\n",
    "Plot the grid solution, the linear and quadratic approximations on the same graph."
   ]
  },
  {
   "cell_type": "markdown",
   "metadata": {},
   "source": [
    "** Answer:**\n",
    "\n",
    "Let's code the excess demand function.  This will implicitly define the wage a function of the capital stock when set excess demand to zer0."
   ]
  },
  {
   "cell_type": "markdown",
   "metadata": {},
   "source": [
    "Next, we need code that generates second derivatives numerically.  The following code generates second and third derivatives."
   ]
  },
  {
   "cell_type": "markdown",
   "metadata": {},
   "source": [
    "Write the main program"
   ]
  },
  {
   "cell_type": "code",
   "execution_count": 4,
   "metadata": {},
   "outputs": [
    {
     "name": "stdout",
     "output_type": "stream",
     "text": [
      "w0:  [0.53276883]\n",
      "check:  [-3.55271368e-15]\n"
     ]
    },
    {
     "data": {
      "image/png": "[encoded data removed]",
      "text/plain": [
       "<Figure size 432x288 with 1 Axes>"
      ]
     },
     "metadata": {
      "needs_background": "light"
     },
     "output_type": "display_data"
    }
   ],
   "source": [
    "import numpy as np\n",
    "import scipy.optimize as opt\n",
    "import matplotlib.pyplot as plt\n",
    "\n",
    "# choose approximation point\n",
    "k0 = 7.\n",
    "\n",
    "# set value for epsilon\n",
    "eps = .01\n",
    "\n",
    "#  create anonymous function\n",
    "f = lambda w: excess(w, k0)\n",
    "\n",
    "#  use fsolve to find equlibrium wage\n",
    "w0 = opt.fsolve(f, .1)\n",
    "print ('w0: ', w0)\n",
    "\n",
    "#  check solution\n",
    "check = excess(w0, k0)\n",
    "print ('check: ', check)\n",
    "\n",
    "# get derivatives from numerical differentiator\n",
    "Fw, Fk, Fww, Fkw, Fkk, Fwww, Fkww, Fkkw, Fkkk = \\\n",
    "    Bnumdiff3(excess, w0, k0, eps);\n",
    "    \n",
    "# get coefficients using perturbation formulas\n",
    "w1 = - Fk/Fw\n",
    "w2 = -(Fww*w1**2 + 2*Fkw*w1 + Fkk)/Fw\n",
    "w3 = -(Fwww*w1**3 + 3*Fww*w2*w1 + 2*Fkw*w2 + 2*Fkww*w1**2 + Fkkk) / Fw\n",
    "\n",
    "\n",
    "# set up a grid\n",
    "min = 1\n",
    "max = 15\n",
    "nstep = 50\n",
    "kgrid = np.linspace(min, max, num=nstep)\n",
    "wgrid = np.zeros(nstep)\n",
    "w1grid = np.zeros(nstep)\n",
    "w2grid = np.zeros(nstep)\n",
    "w3grid = np.zeros(nstep)\n",
    "\n",
    "#  get solutions at each point on the grid\n",
    "for i in range(0, nstep):\n",
    "    # find exact solutions\n",
    "    # create anonymous function\n",
    "    f = lambda w: excess(w, kgrid[i])\n",
    "    # use fsolve to find equilibrium wage\n",
    "    wgrid[i] = opt.fsolve(f, .1)\n",
    "    # evaluate approximations \n",
    "    w1grid[i] = w0 + w1*(kgrid[i] - k0)\n",
    "    w2grid[i] = w1grid[i] + .5*w2*(kgrid[i] - k0)**2\n",
    "    w3grid[i] = w2grid[i] + (1/6)*w3*(kgrid[i]-k0)**3\n",
    "\n",
    "# plot results\n",
    "plt.plot(kgrid, wgrid, 'k-',\n",
    "         kgrid, w1grid, 'r-',\n",
    "         kgrid, w2grid, 'b-',\n",
    "         kgrid, w3grid, 'g-')\n",
    "plt.legend(['Exact', '1st', '2nd', '3rd'], loc=1)\n",
    "plt.title('Exact and Approximate Functions')\n",
    "plt.xlabel('k')\n",
    "plt.ylabel('w')\n",
    "plt.show()"
   ]
  }
 ],
 "metadata": {
  "kernelspec": {
   "display_name": "Python 3",
   "language": "python",
   "name": "python3"
  },
  "language_info": {
   "codemirror_mode": {
    "name": "ipython",
    "version": 3
   },
   "file_extension": ".py",
   "mimetype": "text/x-python",
   "name": "python",
   "nbconvert_exporter": "python",
   "pygments_lexer": "ipython3",
   "version": "3.7.3"
  }
 },
 "nbformat": 4,
 "nbformat_minor": 2
}
